{
 "cells": [
  {
   "cell_type": "markdown",
   "id": "883253be",
   "metadata": {},
   "source": [
    "***Data Preprocessing***\n"
   ]
  },
  {
   "cell_type": "code",
   "execution_count": 4,
   "id": "914f2160",
   "metadata": {},
   "outputs": [],
   "source": [
    "import os\n",
    "import cv2\n",
    "import numpy as np\n",
    "import tensorflow as tf\n",
    "import pickle"
   ]
  },
  {
   "cell_type": "code",
   "execution_count": 5,
   "id": "6b498174",
   "metadata": {},
   "outputs": [],
   "source": [
    "from tensorflow import keras\n",
    "# from tensorflow.keras.preprocessing.image import ImageDataGenerator\n",
    "# from keras.applications import ImageDataGenerator\n",
    "from keras_preprocessing.image import ImageDataGenerator\n",
    "from sklearn.model_selection import train_test_split\n",
    "from tqdm import tqdm"
   ]
  },
  {
   "cell_type": "code",
   "execution_count": 6,
   "id": "43900762",
   "metadata": {},
   "outputs": [],
   "source": [
    "# Define dataset path\n",
    "DATASET_PATH = \"data\"  # Change this to your dataset folder\n"
   ]
  },
  {
   "cell_type": "code",
   "execution_count": 7,
   "id": "879a8e2a",
   "metadata": {},
   "outputs": [],
   "source": [
    "# Define categories (same as your folder names)\n",
    "CATEGORIES = [\"Blight\", \"Common_Rust\", \"Gray_Leaf_Spot\", \"Healthy\"]\n",
    "\n"
   ]
  },
  {
   "cell_type": "code",
   "execution_count": 8,
   "id": "f4ab2b86",
   "metadata": {},
   "outputs": [],
   "source": [
    "# Image size for CNNs like ResNet\n",
    "IMG_SIZE = 224"
   ]
  },
  {
   "cell_type": "code",
   "execution_count": 9,
   "id": "0caac699",
   "metadata": {},
   "outputs": [],
   "source": [
    "# Store images and labels\n",
    "data = []\n",
    "labels = []\n"
   ]
  },
  {
   "cell_type": "code",
   "execution_count": 10,
   "id": "dc4cbb37",
   "metadata": {},
   "outputs": [
    {
     "name": "stdout",
     "output_type": "stream",
     "text": [
      "['Blight', 'Common_Rust', 'Gray_Leaf_Spot', 'Healthy']\n"
     ]
    }
   ],
   "source": [
    "import os\n",
    "print(os.listdir(\"data\"))\n"
   ]
  },
  {
   "cell_type": "code",
   "execution_count": 12,
   "id": "219f0cc5",
   "metadata": {},
   "outputs": [
    {
     "name": "stderr",
     "output_type": "stream",
     "text": [
      "Processing Blight: 100%|██████████| 1146/1146 [00:27<00:00, 42.04it/s]\n",
      "Processing Common_Rust: 100%|██████████| 1306/1306 [00:32<00:00, 39.98it/s]\n",
      "Processing Gray_Leaf_Spot: 100%|██████████| 574/574 [00:17<00:00, 33.11it/s]\n",
      "Processing Healthy: 100%|██████████| 1162/1162 [00:52<00:00, 22.18it/s]\n"
     ]
    }
   ],
   "source": [
    "# Load images from each category\n",
    "\n",
    "for category in CATEGORIES:\n",
    "    folder_path = os.path.join(DATASET_PATH, category)\n",
    "    class_index = CATEGORIES.index(category)  # Assign a label (0,1,2,3)\n",
    "\n",
    "    for img_name in tqdm(os.listdir(folder_path), desc=f\"Processing {category}\"):\n",
    "        img_path = os.path.join(folder_path, img_name)\n",
    "        try:\n",
    "            # Read and resize image\n",
    "            img = cv2.imread(img_path)\n",
    "            img = cv2.cvtColor(img, cv2.COLOR_BGR2RGB)  # Convert BGR to RGB\n",
    "            img = cv2.resize(img, (IMG_SIZE, IMG_SIZE))  # Resize\n",
    "            \n",
    "            # Normalize pixels (0 to 1 range)\n",
    "            img = img / 255.0\n",
    "\n",
    "            # Append to dataset\n",
    "            data.append(img)\n",
    "            labels.append(class_index)\n",
    "        except Exception as e:\n",
    "            print(f\"Error loading image {img_path}: {e}\")\n"
   ]
  },
  {
   "cell_type": "code",
   "execution_count": 13,
   "id": "20b8cb42",
   "metadata": {},
   "outputs": [],
   "source": [
    "# Convert lists to numpy arrays\n",
    "data = np.array(data, dtype=\"float32\")\n",
    "labels = np.array(labels)"
   ]
  },
  {
   "cell_type": "code",
   "execution_count": 14,
   "id": "512bd149",
   "metadata": {},
   "outputs": [
    {
     "name": "stdout",
     "output_type": "stream",
     "text": [
      "Training samples: 2931\n",
      "Validation samples: 842\n",
      "Test samples: 415\n"
     ]
    }
   ],
   "source": [
    "# Split into Train (70%), Validation (20%), and Test (10%)\n",
    "X_train, X_temp, y_train, y_temp = train_test_split(data, labels, test_size=0.3, stratify=labels, random_state=42)\n",
    "X_val, X_test, y_val, y_test = train_test_split(X_temp, y_temp, test_size=0.33, stratify=y_temp, random_state=42)\n",
    "\n",
    "print(f\"Training samples: {len(X_train)}\")\n",
    "print(f\"Validation samples: {len(X_val)}\")\n",
    "print(f\"Test samples: {len(X_test)}\")"
   ]
  },
  {
   "cell_type": "code",
   "execution_count": 15,
   "id": "ea23b4e3",
   "metadata": {},
   "outputs": [],
   "source": [
    "# Data Augmentation for Training Data\n",
    "datagen = ImageDataGenerator(\n",
    "    rotation_range=20,\n",
    "    width_shift_range=0.1,\n",
    "    height_shift_range=0.1,\n",
    "    horizontal_flip=True,\n",
    "    zoom_range=0.2,\n",
    "    brightness_range=[0.8, 1.2]\n",
    ")"
   ]
  },
  {
   "cell_type": "code",
   "execution_count": 16,
   "id": "c742a73a",
   "metadata": {},
   "outputs": [
    {
     "name": "stdout",
     "output_type": "stream",
     "text": [
      "✅ Preprocessing Completed & Data Saved in data.pkl!\n"
     ]
    }
   ],
   "source": [
    "# ✅ Save all data in a Pickle file\n",
    "with open(\"data.pkl\", \"wb\") as f:\n",
    "    pickle.dump({\n",
    "        \"X_train\": X_train, \"y_train\": y_train,\n",
    "        \"X_val\": X_val, \"y_val\": y_val,\n",
    "        \"X_test\": X_test, \"y_test\": y_test\n",
    "    }, f)\n",
    "\n",
    "print(\"✅ Preprocessing Completed & Data Saved in data.pkl!\")"
   ]
  },
  {
   "cell_type": "markdown",
   "id": "ce66ed97",
   "metadata": {},
   "source": [
    "***Data model training***\n"
   ]
  },
  {
   "cell_type": "code",
   "execution_count": 17,
   "id": "a05bb85b",
   "metadata": {},
   "outputs": [],
   "source": [
    "from tensorflow.keras.applications import MobileNetV2\n",
    "from tensorflow.keras.models import Model\n",
    "from tensorflow.keras.layers import Dense, GlobalAveragePooling2D\n",
    "    \n",
    "from keras.callbacks import EarlyStopping, ModelCheckpoint, CSVLogger\n",
    "from sklearn.metrics import classification_report, confusion_matrix\n",
    "\n",
    "import seaborn as sns\n",
    "import matplotlib.pyplot as plt\n"
   ]
  },
  {
   "cell_type": "code",
   "execution_count": 18,
   "id": "78cd2eb7",
   "metadata": {},
   "outputs": [],
   "source": [
    "# Load data\n",
    "with open(\"data.pkl\", \"rb\") as f:\n",
    "    data = pickle.load(f)\n",
    "    \n",
    "X_train, y_train = data[\"X_train\"], data[\"y_train\"]\n",
    "X_val, y_val = data[\"X_val\"], data[\"y_val\"]\n",
    "X_test, y_test = data[\"X_test\"], data[\"y_test\"]\n"
   ]
  },
  {
   "cell_type": "code",
   "execution_count": 19,
   "id": "c4636162",
   "metadata": {},
   "outputs": [],
   "source": [
    "# Load base model\n",
    "base_model = MobileNetV2(weights='imagenet', include_top=False, input_shape=(224, 224, 3))\n",
    "base_model.trainable = False  # Freeze base"
   ]
  },
  {
   "cell_type": "code",
   "execution_count": 20,
   "id": "d785cf20",
   "metadata": {},
   "outputs": [],
   "source": [
    "# Add custom layers\n",
    "x = base_model.output\n",
    "x = GlobalAveragePooling2D()(x)\n",
    "x = Dense(128, activation='relu')(x)\n",
    "output = Dense(4, activation='softmax')(x)\n",
    "\n",
    "model = Model(inputs=base_model.input, outputs=output)\n",
    "model.compile(optimizer='adam', loss='sparse_categorical_crossentropy', metrics=['accuracy'])\n"
   ]
  },
  {
   "cell_type": "code",
   "execution_count": 21,
   "id": "f6e743a9",
   "metadata": {},
   "outputs": [],
   "source": [
    "# Define callbacks\n",
    "callbacks = [\n",
    "    EarlyStopping(monitor='val_loss', patience=3, restore_best_weights=True),\n",
    "    ModelCheckpoint(\"best_model.h5\", save_best_only=True),\n",
    "    CSVLogger(\"training_log.csv\")\n",
    "]"
   ]
  },
  {
   "cell_type": "code",
   "execution_count": 22,
   "id": "f2339a1f",
   "metadata": {},
   "outputs": [
    {
     "name": "stdout",
     "output_type": "stream",
     "text": [
      "Epoch 1/20\n",
      "92/92 [==============================] - 116s 940ms/step - loss: 0.3182 - accuracy: 0.8744 - val_loss: 0.2248 - val_accuracy: 0.9216\n",
      "Epoch 2/20\n",
      "92/92 [==============================] - 77s 844ms/step - loss: 0.1625 - accuracy: 0.9403 - val_loss: 0.1806 - val_accuracy: 0.9371\n",
      "Epoch 3/20\n",
      "92/92 [==============================] - 66s 724ms/step - loss: 0.1189 - accuracy: 0.9556 - val_loss: 0.1840 - val_accuracy: 0.9406\n",
      "Epoch 4/20\n",
      "92/92 [==============================] - 59s 644ms/step - loss: 0.0822 - accuracy: 0.9693 - val_loss: 0.1858 - val_accuracy: 0.9394\n",
      "Epoch 5/20\n",
      "92/92 [==============================] - 57s 621ms/step - loss: 0.0564 - accuracy: 0.9833 - val_loss: 0.2330 - val_accuracy: 0.9192\n"
     ]
    },
    {
     "data": {
      "text/plain": [
       "<keras.callbacks.History at 0x25c01a1f0d0>"
      ]
     },
     "execution_count": 22,
     "metadata": {},
     "output_type": "execute_result"
    }
   ],
   "source": [
    "# Train model\n",
    "model.fit(X_train, y_train, epochs=20, validation_data=(X_val, y_val), callbacks=callbacks)\n"
   ]
  },
  {
   "cell_type": "code",
   "execution_count": 23,
   "id": "a646c9ec",
   "metadata": {},
   "outputs": [
    {
     "name": "stdout",
     "output_type": "stream",
     "text": [
      "13/13 [==============================] - 8s 554ms/step - loss: 0.2382 - accuracy: 0.9036\n",
      "✅ Test Accuracy: 0.9036\n"
     ]
    }
   ],
   "source": [
    "# Evaluate model\n",
    "test_loss, test_acc = model.evaluate(X_test, y_test)\n",
    "print(f\"✅ Test Accuracy: {test_acc:.4f}\")"
   ]
  },
  {
   "cell_type": "code",
   "execution_count": 24,
   "id": "7085de46",
   "metadata": {},
   "outputs": [
    {
     "name": "stdout",
     "output_type": "stream",
     "text": [
      "13/13 [==============================] - 16s 534ms/step\n",
      "                precision    recall  f1-score   support\n",
      "\n",
      "        Blight       0.79      0.89      0.83       114\n",
      "   Common_Rust       0.97      0.95      0.96       129\n",
      "Gray_Leaf_Spot       0.82      0.65      0.73        57\n",
      "       Healthy       0.99      0.99      0.99       115\n",
      "\n",
      "      accuracy                           0.90       415\n",
      "     macro avg       0.89      0.87      0.88       415\n",
      "  weighted avg       0.91      0.90      0.90       415\n",
      "\n"
     ]
    }
   ],
   "source": [
    "# Predict and show classification report\n",
    "y_pred = model.predict(X_test).argmax(axis=1)\n",
    "print(classification_report(y_test, y_pred, target_names=[\"Blight\", \"Common_Rust\", \"Gray_Leaf_Spot\", \"Healthy\"]))"
   ]
  },
  {
   "cell_type": "code",
   "execution_count": 25,
   "id": "0b3fee98",
   "metadata": {},
   "outputs": [
    {
     "data": {
      "image/png": "[encoded data removed]",
      "text/plain": [
       "<Figure size 640x480 with 2 Axes>"
      ]
     },
     "metadata": {},
     "output_type": "display_data"
    }
   ],
   "source": [
    "# Confusion matrix\n",
    "from sklearn.metrics import confusion_matrix\n",
    "\n",
    "cm = confusion_matrix(y_test, y_pred)\n",
    "sns.heatmap(cm, annot=True, fmt='d', cmap='Blues', xticklabels=CATEGORIES, yticklabels=CATEGORIES)\n",
    "plt.xlabel(\"Predicted\")\n",
    "plt.ylabel(\"True\")\n",
    "plt.title(\"Confusion Matrix\")\n",
    "plt.show()"
   ]
  }
 ],
 "metadata": {
  "kernelspec": {
   "display_name": ".venv",
   "language": "python",
   "name": "python3"
  },
  "language_info": {
   "codemirror_mode": {
    "name": "ipython",
    "version": 3
   },
   "file_extension": ".py",
   "mimetype": "text/x-python",
   "name": "python",
   "nbconvert_exporter": "python",
   "pygments_lexer": "ipython3",
   "version": "3.10.13"
  }
 },
 "nbformat": 4,
 "nbformat_minor": 5
}
