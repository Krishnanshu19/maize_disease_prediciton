{
 "cells": [
  {
   "cell_type": "markdown",
   "id": "883253be",
   "metadata": {},
   "source": [
    "***Data Preprocessing***\n"
   ]
  },
  {
   "cell_type": "code",
   "execution_count": 1,
   "id": "914f2160",
   "metadata": {},
   "outputs": [],
   "source": [
    "import os\n",
    "import cv2\n",
    "import numpy as np\n",
    "import tensorflow as tf\n",
    "import pickle"
   ]
  },
  {
   "cell_type": "code",
   "execution_count": 2,
   "id": "6b498174",
   "metadata": {},
   "outputs": [],
   "source": [
    "from tensorflow import keras\n",
    "# from tensorflow.keras.preprocessing.image import ImageDataGenerator\n",
    "# from keras.applications import ImageDataGenerator\n",
    "from keras_preprocessing.image import ImageDataGenerator\n",
    "from sklearn.model_selection import train_test_split\n",
    "from tqdm import tqdm"
   ]
  },
  {
   "cell_type": "code",
   "execution_count": 3,
   "id": "43900762",
   "metadata": {},
   "outputs": [],
   "source": [
    "# Define dataset path\n",
    "DATASET_PATH = \"data\"  # Change this to your dataset folder\n"
   ]
  },
  {
   "cell_type": "code",
   "execution_count": 4,
   "id": "879a8e2a",
   "metadata": {},
   "outputs": [],
   "source": [
    "# Define categories (same as your folder names)\n",
    "CATEGORIES = [\"Blight\", \"Common_Rust\", \"Gray_Leaf_Spot\", \"Healthy\"]\n",
    "\n"
   ]
  },
  {
   "cell_type": "code",
   "execution_count": 5,
   "id": "f4ab2b86",
   "metadata": {},
   "outputs": [],
   "source": [
    "# Image size for CNNs like ResNet\n",
    "IMG_SIZE = 224"
   ]
  },
  {
   "cell_type": "code",
   "execution_count": 6,
   "id": "0caac699",
   "metadata": {},
   "outputs": [],
   "source": [
    "# Store images and labels\n",
    "data = []\n",
    "labels = []\n"
   ]
  },
  {
   "cell_type": "code",
   "execution_count": 7,
   "id": "dc4cbb37",
   "metadata": {},
   "outputs": [
    {
     "name": "stdout",
     "output_type": "stream",
     "text": [
      "['Blight', 'Common_Rust', 'Gray_Leaf_Spot', 'Healthy']\n"
     ]
    }
   ],
   "source": [
    "import os\n",
    "print(os.listdir(\"data\"))\n"
   ]
  },
  {
   "cell_type": "code",
   "execution_count": 8,
   "id": "219f0cc5",
   "metadata": {},
   "outputs": [
    {
     "name": "stderr",
     "output_type": "stream",
     "text": [
      "Processing Blight: 100%|██████████| 1146/1146 [00:10<00:00, 106.81it/s]\n",
      "Processing Common_Rust: 100%|██████████| 1306/1306 [00:12<00:00, 107.44it/s]\n",
      "Processing Gray_Leaf_Spot: 100%|██████████| 574/574 [00:04<00:00, 118.66it/s]\n",
      "Processing Healthy: 100%|██████████| 1162/1162 [00:09<00:00, 126.56it/s]\n"
     ]
    }
   ],
   "source": [
    "# Load images from each category\n",
    "\n",
    "for category in CATEGORIES:\n",
    "    folder_path = os.path.join(DATASET_PATH, category)\n",
    "    class_index = CATEGORIES.index(category)  # Assign a label (0,1,2,3)\n",
    "\n",
    "    for img_name in tqdm(os.listdir(folder_path), desc=f\"Processing {category}\"):\n",
    "        img_path = os.path.join(folder_path, img_name)\n",
    "        try:\n",
    "            # Read and resize image\n",
    "            img = cv2.imread(img_path)\n",
    "            img = cv2.cvtColor(img, cv2.COLOR_BGR2RGB)  # Convert BGR to RGB\n",
    "            img = cv2.resize(img, (IMG_SIZE, IMG_SIZE))  # Resize\n",
    "            \n",
    "            # Normalize pixels (0 to 1 range)\n",
    "            img = img / 255.0\n",
    "\n",
    "            # Append to dataset\n",
    "            data.append(img)\n",
    "            labels.append(class_index)\n",
    "        except Exception as e:\n",
    "            print(f\"Error loading image {img_path}: {e}\")\n"
   ]
  },
  {
   "cell_type": "code",
   "execution_count": 9,
   "id": "20b8cb42",
   "metadata": {},
   "outputs": [],
   "source": [
    "# Convert lists to numpy arrays\n",
    "data = np.array(data, dtype=\"float32\")\n",
    "labels = np.array(labels)"
   ]
  },
  {
   "cell_type": "code",
   "execution_count": 10,
   "id": "512bd149",
   "metadata": {},
   "outputs": [
    {
     "name": "stdout",
     "output_type": "stream",
     "text": [
      "Training samples: 2931\n",
      "Validation samples: 842\n",
      "Test samples: 415\n"
     ]
    }
   ],
   "source": [
    "# Split into Train (70%), Validation (20%), and Test (10%)\n",
    "X_train, X_temp, y_train, y_temp = train_test_split(data, labels, test_size=0.3, stratify=labels, random_state=42)\n",
    "X_val, X_test, y_val, y_test = train_test_split(X_temp, y_temp, test_size=0.33, stratify=y_temp, random_state=42)\n",
    "\n",
    "print(f\"Training samples: {len(X_train)}\")\n",
    "print(f\"Validation samples: {len(X_val)}\")\n",
    "print(f\"Test samples: {len(X_test)}\")"
   ]
  },
  {
   "cell_type": "code",
   "execution_count": 11,
   "id": "ea23b4e3",
   "metadata": {},
   "outputs": [],
   "source": [
    "# Data Augmentation for Training Data\n",
    "datagen = ImageDataGenerator(\n",
    "    rotation_range=20,\n",
    "    width_shift_range=0.1,\n",
    "    height_shift_range=0.1,\n",
    "    horizontal_flip=True,\n",
    "    zoom_range=0.2,\n",
    "    brightness_range=[0.8, 1.2]\n",
    ")"
   ]
  },
  {
   "cell_type": "code",
   "execution_count": 12,
   "id": "c742a73a",
   "metadata": {},
   "outputs": [
    {
     "name": "stdout",
     "output_type": "stream",
     "text": [
      "✅ Preprocessing Completed & Data Saved in data.pkl!\n"
     ]
    }
   ],
   "source": [
    "# ✅ Save all data in a Pickle file\n",
    "with open(\"data.pkl\", \"wb\") as f:\n",
    "    pickle.dump({\n",
    "        \"X_train\": X_train, \"y_train\": y_train,\n",
    "        \"X_val\": X_val, \"y_val\": y_val,\n",
    "        \"X_test\": X_test, \"y_test\": y_test\n",
    "    }, f)\n",
    "\n",
    "print(\"✅ Preprocessing Completed & Data Saved in data.pkl!\")"
   ]
  },
  {
   "cell_type": "markdown",
   "id": "ce66ed97",
   "metadata": {},
   "source": [
    "***Data model training***\n"
   ]
  },
  {
   "cell_type": "code",
   "execution_count": 13,
   "id": "a05bb85b",
   "metadata": {},
   "outputs": [],
   "source": [
    "from tensorflow.keras.applications import MobileNetV2\n",
    "from tensorflow.keras.models import Model\n",
    "from tensorflow.keras.layers import Dense, GlobalAveragePooling2D\n",
    "    \n",
    "from keras.callbacks import EarlyStopping, ModelCheckpoint, CSVLogger\n",
    "from sklearn.metrics import classification_report, confusion_matrix\n",
    "\n",
    "import seaborn as sns\n",
    "import matplotlib.pyplot as plt\n"
   ]
  },
  {
   "cell_type": "code",
   "execution_count": 14,
   "id": "78cd2eb7",
   "metadata": {},
   "outputs": [],
   "source": [
    "# Load data\n",
    "with open(\"data.pkl\", \"rb\") as f:\n",
    "    data = pickle.load(f)\n",
    "    \n",
    "X_train, y_train = data[\"X_train\"], data[\"y_train\"]\n",
    "X_val, y_val = data[\"X_val\"], data[\"y_val\"]\n",
    "X_test, y_test = data[\"X_test\"], data[\"y_test\"]\n"
   ]
  },
  {
   "cell_type": "code",
   "execution_count": 15,
   "id": "c4636162",
   "metadata": {},
   "outputs": [],
   "source": [
    "# Load base model\n",
    "base_model = MobileNetV2(weights='imagenet', include_top=False, input_shape=(224, 224, 3))\n",
    "base_model.trainable = False  # Freeze base"
   ]
  },
  {
   "cell_type": "code",
   "execution_count": 16,
   "id": "d785cf20",
   "metadata": {},
   "outputs": [],
   "source": [
    "# Add custom layers\n",
    "x = base_model.output\n",
    "x = GlobalAveragePooling2D()(x)\n",
    "x = Dense(128, activation='relu')(x)\n",
    "output = Dense(4, activation='softmax')(x)\n",
    "\n",
    "model = Model(inputs=base_model.input, outputs=output)\n",
    "model.compile(optimizer='adam', loss='sparse_categorical_crossentropy', metrics=['accuracy'])\n"
   ]
  },
  {
   "cell_type": "code",
   "execution_count": 17,
   "id": "f6e743a9",
   "metadata": {},
   "outputs": [],
   "source": [
    "# Define callbacks\n",
    "callbacks = [\n",
    "    EarlyStopping(monitor='val_loss', patience=3, restore_best_weights=True),\n",
    "    ModelCheckpoint(\"best_model.h5\", save_best_only=True),\n",
    "    CSVLogger(\"training_log.csv\")\n",
    "]"
   ]
  },
  {
   "cell_type": "code",
   "execution_count": 18,
   "id": "f2339a1f",
   "metadata": {},
   "outputs": [
    {
     "name": "stdout",
     "output_type": "stream",
     "text": [
      "Epoch 1/20\n",
      "\u001b[1m92/92\u001b[0m \u001b[32m━━━━━━━━━━━━━━━━━━━━\u001b[0m\u001b[37m\u001b[0m \u001b[1m0s\u001b[0m 377ms/step - accuracy: 0.7806 - loss: 0.5823"
     ]
    },
    {
     "name": "stderr",
     "output_type": "stream",
     "text": [
      "WARNING:absl:You are saving your model as an HDF5 file via `model.save()` or `keras.saving.save_model(model)`. This file format is considered legacy. We recommend using instead the native Keras format, e.g. `model.save('my_model.keras')` or `keras.saving.save_model(model, 'my_model.keras')`. \n"
     ]
    },
    {
     "name": "stdout",
     "output_type": "stream",
     "text": [
      "\u001b[1m92/92\u001b[0m \u001b[32m━━━━━━━━━━━━━━━━━━━━\u001b[0m\u001b[37m\u001b[0m \u001b[1m50s\u001b[0m 501ms/step - accuracy: 0.7816 - loss: 0.5798 - val_accuracy: 0.9394 - val_loss: 0.1951\n",
      "Epoch 2/20\n",
      "\u001b[1m92/92\u001b[0m \u001b[32m━━━━━━━━━━━━━━━━━━━━\u001b[0m\u001b[37m\u001b[0m \u001b[1m43s\u001b[0m 468ms/step - accuracy: 0.9365 - loss: 0.1698 - val_accuracy: 0.9204 - val_loss: 0.2274\n",
      "Epoch 3/20\n",
      "\u001b[1m92/92\u001b[0m \u001b[32m━━━━━━━━━━━━━━━━━━━━\u001b[0m\u001b[37m\u001b[0m \u001b[1m46s\u001b[0m 500ms/step - accuracy: 0.9402 - loss: 0.1389 - val_accuracy: 0.9276 - val_loss: 0.1975\n",
      "Epoch 4/20\n",
      "\u001b[1m92/92\u001b[0m \u001b[32m━━━━━━━━━━━━━━━━━━━━\u001b[0m\u001b[37m\u001b[0m \u001b[1m0s\u001b[0m 368ms/step - accuracy: 0.9698 - loss: 0.0943"
     ]
    },
    {
     "name": "stderr",
     "output_type": "stream",
     "text": [
      "WARNING:absl:You are saving your model as an HDF5 file via `model.save()` or `keras.saving.save_model(model)`. This file format is considered legacy. We recommend using instead the native Keras format, e.g. `model.save('my_model.keras')` or `keras.saving.save_model(model, 'my_model.keras')`. \n"
     ]
    },
    {
     "name": "stdout",
     "output_type": "stream",
     "text": [
      "\u001b[1m92/92\u001b[0m \u001b[32m━━━━━━━━━━━━━━━━━━━━\u001b[0m\u001b[37m\u001b[0m \u001b[1m44s\u001b[0m 476ms/step - accuracy: 0.9697 - loss: 0.0943 - val_accuracy: 0.9311 - val_loss: 0.1848\n",
      "Epoch 5/20\n",
      "\u001b[1m92/92\u001b[0m \u001b[32m━━━━━━━━━━━━━━━━━━━━\u001b[0m\u001b[37m\u001b[0m \u001b[1m44s\u001b[0m 481ms/step - accuracy: 0.9820 - loss: 0.0627 - val_accuracy: 0.9192 - val_loss: 0.2177\n",
      "Epoch 6/20\n",
      "\u001b[1m92/92\u001b[0m \u001b[32m━━━━━━━━━━━━━━━━━━━━\u001b[0m\u001b[37m\u001b[0m \u001b[1m42s\u001b[0m 460ms/step - accuracy: 0.9779 - loss: 0.0646 - val_accuracy: 0.9442 - val_loss: 0.1910\n",
      "Epoch 7/20\n",
      "\u001b[1m92/92\u001b[0m \u001b[32m━━━━━━━━━━━━━━━━━━━━\u001b[0m\u001b[37m\u001b[0m \u001b[1m44s\u001b[0m 478ms/step - accuracy: 0.9897 - loss: 0.0399 - val_accuracy: 0.9418 - val_loss: 0.2228\n"
     ]
    },
    {
     "data": {
      "text/plain": [
       "<keras.src.callbacks.history.History at 0x2a7818ba6e0>"
      ]
     },
     "execution_count": 18,
     "metadata": {},
     "output_type": "execute_result"
    }
   ],
   "source": [
    "# Train model\n",
    "model.fit(X_train, y_train, epochs=20, validation_data=(X_val, y_val), callbacks=callbacks)\n"
   ]
  },
  {
   "cell_type": "code",
   "execution_count": 19,
   "id": "a646c9ec",
   "metadata": {},
   "outputs": [
    {
     "name": "stdout",
     "output_type": "stream",
     "text": [
      "\u001b[1m13/13\u001b[0m \u001b[32m━━━━━━━━━━━━━━━━━━━━\u001b[0m\u001b[37m\u001b[0m \u001b[1m5s\u001b[0m 399ms/step - accuracy: 0.8988 - loss: 0.2490\n",
      "✅ Test Accuracy: 0.9229\n"
     ]
    }
   ],
   "source": [
    "# Evaluate model\n",
    "test_loss, test_acc = model.evaluate(X_test, y_test)\n",
    "print(f\"✅ Test Accuracy: {test_acc:.4f}\")"
   ]
  },
  {
   "cell_type": "code",
   "execution_count": 20,
   "id": "7085de46",
   "metadata": {},
   "outputs": [
    {
     "name": "stdout",
     "output_type": "stream",
     "text": [
      "\u001b[1m13/13\u001b[0m \u001b[32m━━━━━━━━━━━━━━━━━━━━\u001b[0m\u001b[37m\u001b[0m \u001b[1m7s\u001b[0m 466ms/step\n",
      "                precision    recall  f1-score   support\n",
      "\n",
      "        Blight       0.90      0.84      0.87       114\n",
      "   Common_Rust       0.97      0.96      0.96       129\n",
      "Gray_Leaf_Spot       0.76      0.84      0.80        57\n",
      "       Healthy       0.98      1.00      0.99       115\n",
      "\n",
      "      accuracy                           0.92       415\n",
      "     macro avg       0.90      0.91      0.91       415\n",
      "  weighted avg       0.92      0.92      0.92       415\n",
      "\n"
     ]
    }
   ],
   "source": [
    "# Predict and show classification report\n",
    "y_pred = model.predict(X_test).argmax(axis=1)\n",
    "print(classification_report(y_test, y_pred, target_names=[\"Blight\", \"Common_Rust\", \"Gray_Leaf_Spot\", \"Healthy\"]))"
   ]
  },
  {
   "cell_type": "code",
   "execution_count": 21,
   "id": "0b3fee98",
   "metadata": {},
   "outputs": [
    {
     "data": {
      "image/png": "[encoded data removed]",
      "text/plain": [
       "<Figure size 640x480 with 2 Axes>"
      ]
     },
     "metadata": {},
     "output_type": "display_data"
    }
   ],
   "source": [
    "# Confusion matrix\n",
    "from sklearn.metrics import confusion_matrix\n",
    "\n",
    "cm = confusion_matrix(y_test, y_pred)\n",
    "sns.heatmap(cm, annot=True, fmt='d', cmap='Blues', xticklabels=CATEGORIES, yticklabels=CATEGORIES)\n",
    "plt.xlabel(\"Predicted\")\n",
    "plt.ylabel(\"True\")\n",
    "plt.title(\"Confusion Matrix\")\n",
    "plt.show()"
   ]
  }
 ],
 "metadata": {
  "kernelspec": {
   "display_name": "venv",
   "language": "python",
   "name": "python3"
  },
  "language_info": {
   "codemirror_mode": {
    "name": "ipython",
    "version": 3
   },
   "file_extension": ".py",
   "mimetype": "text/x-python",
   "name": "python",
   "nbconvert_exporter": "python",
   "pygments_lexer": "ipython3",
   "version": "3.10.9"
  }
 },
 "nbformat": 4,
 "nbformat_minor": 5
}
